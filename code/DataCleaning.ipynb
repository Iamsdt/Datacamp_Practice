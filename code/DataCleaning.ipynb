{
 "cells": [
  {
   "cell_type": "code",
   "execution_count": 1,
   "metadata": {
    "ExecuteTime": {
     "end_time": "2020-01-23T03:20:33.226930Z",
     "start_time": "2020-01-23T03:20:33.222331Z"
    }
   },
   "outputs": [],
   "source": [
    "di = {\n",
    "    \"Date\":['21-01-20', '22-01-20', '23-01-20', '24-01-20', '25-01-20', '26-01-20', '27-01-20',],\n",
    "    \"Ozone\":[41, 42, 23, 14, 55, 76, 97],\n",
    "    \"Solar.R\":[10, 22, 13, 44, 55, 66, 78],\n",
    "    \"Wind\":[165, 265, 365, 495, 536, 685, 756],\n",
    "    \"Temp\":[41, 42, 33, 34, 35, 37, 39],\n",
    "}"
   ]
  },
  {
   "cell_type": "code",
   "execution_count": 2,
   "metadata": {
    "ExecuteTime": {
     "end_time": "2020-01-23T03:21:13.224256Z",
     "start_time": "2020-01-23T03:21:13.194265Z"
    }
   },
   "outputs": [
    {
     "data": {
      "text/html": [
       "<div>\n",
       "<style scoped>\n",
       "    .dataframe tbody tr th:only-of-type {\n",
       "        vertical-align: middle;\n",
       "    }\n",
       "\n",
       "    .dataframe tbody tr th {\n",
       "        vertical-align: top;\n",
       "    }\n",
       "\n",
       "    .dataframe thead th {\n",
       "        text-align: right;\n",
       "    }\n",
       "</style>\n",
       "<table border=\"1\" class=\"dataframe\">\n",
       "  <thead>\n",
       "    <tr style=\"text-align: right;\">\n",
       "      <th></th>\n",
       "      <th>Date</th>\n",
       "      <th>Ozone</th>\n",
       "      <th>Solar.R</th>\n",
       "      <th>Wind</th>\n",
       "      <th>Temp</th>\n",
       "    </tr>\n",
       "  </thead>\n",
       "  <tbody>\n",
       "    <tr>\n",
       "      <th>0</th>\n",
       "      <td>21-01-20</td>\n",
       "      <td>41</td>\n",
       "      <td>10</td>\n",
       "      <td>165</td>\n",
       "      <td>41</td>\n",
       "    </tr>\n",
       "    <tr>\n",
       "      <th>1</th>\n",
       "      <td>22-01-20</td>\n",
       "      <td>42</td>\n",
       "      <td>22</td>\n",
       "      <td>265</td>\n",
       "      <td>42</td>\n",
       "    </tr>\n",
       "    <tr>\n",
       "      <th>2</th>\n",
       "      <td>23-01-20</td>\n",
       "      <td>23</td>\n",
       "      <td>13</td>\n",
       "      <td>365</td>\n",
       "      <td>33</td>\n",
       "    </tr>\n",
       "    <tr>\n",
       "      <th>3</th>\n",
       "      <td>24-01-20</td>\n",
       "      <td>14</td>\n",
       "      <td>44</td>\n",
       "      <td>495</td>\n",
       "      <td>34</td>\n",
       "    </tr>\n",
       "    <tr>\n",
       "      <th>4</th>\n",
       "      <td>25-01-20</td>\n",
       "      <td>55</td>\n",
       "      <td>55</td>\n",
       "      <td>536</td>\n",
       "      <td>35</td>\n",
       "    </tr>\n",
       "  </tbody>\n",
       "</table>\n",
       "</div>"
      ],
      "text/plain": [
       "       Date  Ozone  Solar.R  Wind  Temp\n",
       "0  21-01-20     41       10   165    41\n",
       "1  22-01-20     42       22   265    42\n",
       "2  23-01-20     23       13   365    33\n",
       "3  24-01-20     14       44   495    34\n",
       "4  25-01-20     55       55   536    35"
      ]
     },
     "execution_count": 2,
     "metadata": {},
     "output_type": "execute_result"
    }
   ],
   "source": [
    "import pandas as pd\n",
    "\n",
    "airquality = pd.DataFrame(di)\n",
    "airquality.head()"
   ]
  },
  {
   "cell_type": "code",
   "execution_count": 4,
   "metadata": {
    "ExecuteTime": {
     "end_time": "2020-01-23T03:21:30.766963Z",
     "start_time": "2020-01-23T03:21:30.749375Z"
    }
   },
   "outputs": [
    {
     "name": "stdout",
     "output_type": "stream",
     "text": [
      "       Date  Ozone  Solar.R  Wind  Temp\n",
      "0  21-01-20     41       10   165    41\n",
      "1  22-01-20     42       22   265    42\n",
      "2  23-01-20     23       13   365    33\n",
      "3  24-01-20     14       44   495    34\n",
      "4  25-01-20     55       55   536    35\n",
      "        Date variable  value\n",
      "0   21-01-20    Ozone     41\n",
      "1   22-01-20    Ozone     42\n",
      "2   23-01-20    Ozone     23\n",
      "3   24-01-20    Ozone     14\n",
      "4   25-01-20    Ozone     55\n",
      "5   26-01-20    Ozone     76\n",
      "6   27-01-20    Ozone     97\n",
      "7   21-01-20  Solar.R     10\n",
      "8   22-01-20  Solar.R     22\n",
      "9   23-01-20  Solar.R     13\n",
      "10  24-01-20  Solar.R     44\n",
      "11  25-01-20  Solar.R     55\n",
      "12  26-01-20  Solar.R     66\n",
      "13  27-01-20  Solar.R     78\n",
      "14  21-01-20     Wind    165\n",
      "15  22-01-20     Wind    265\n",
      "16  23-01-20     Wind    365\n",
      "17  24-01-20     Wind    495\n",
      "18  25-01-20     Wind    536\n",
      "19  26-01-20     Wind    685\n",
      "20  27-01-20     Wind    756\n",
      "21  21-01-20     Temp     41\n",
      "22  22-01-20     Temp     42\n",
      "23  23-01-20     Temp     33\n",
      "24  24-01-20     Temp     34\n",
      "25  25-01-20     Temp     35\n",
      "26  26-01-20     Temp     37\n",
      "27  27-01-20     Temp     39\n"
     ]
    }
   ],
   "source": [
    "# Print the head of airquality\n",
    "print(airquality.head())\n",
    "\n",
    "# Melt airquality: airquality_melt\n",
    "airquality_melt = pd.melt(airquality, id_vars='Date', value_vars=['Ozone', 'Solar.R', \"Wind\", \"Temp\"])\n",
    "\n",
    "# Print the head of airquality_melt\n",
    "print(airquality_melt)"
   ]
  },
  {
   "cell_type": "code",
   "execution_count": 5,
   "metadata": {
    "ExecuteTime": {
     "end_time": "2020-01-23T03:21:44.992587Z",
     "start_time": "2020-01-23T03:21:44.977404Z"
    }
   },
   "outputs": [
    {
     "name": "stdout",
     "output_type": "stream",
     "text": [
      "       Date  Ozone  Solar.R  Wind  Temp\n",
      "0  21-01-20     41       10   165    41\n",
      "1  22-01-20     42       22   265    42\n",
      "2  23-01-20     23       13   365    33\n",
      "3  24-01-20     14       44   495    34\n",
      "4  25-01-20     55       55   536    35\n",
      "       Date measurement  reading\n",
      "0  21-01-20       Ozone       41\n",
      "1  22-01-20       Ozone       42\n",
      "2  23-01-20       Ozone       23\n",
      "3  24-01-20       Ozone       14\n",
      "4  25-01-20       Ozone       55\n"
     ]
    }
   ],
   "source": [
    "# Print the head of airquality\n",
    "print(airquality.head())\n",
    "\n",
    "# Melt airquality: airquality_melt\n",
    "airquality_melt = pd.melt(airquality, id_vars='Date', var_name='measurement', value_name='reading')\n",
    "\n",
    "# Print the head of airquality_melt\n",
    "print(airquality_melt.head())\n"
   ]
  },
  {
   "cell_type": "code",
   "execution_count": 8,
   "metadata": {
    "ExecuteTime": {
     "end_time": "2020-01-23T03:24:05.023684Z",
     "start_time": "2020-01-23T03:24:05.017619Z"
    }
   },
   "outputs": [
    {
     "data": {
      "text/plain": [
       "28"
      ]
     },
     "execution_count": 8,
     "metadata": {},
     "output_type": "execute_result"
    }
   ],
   "source": [
    "len(airquality_melt)"
   ]
  },
  {
   "cell_type": "code",
   "execution_count": 19,
   "metadata": {
    "ExecuteTime": {
     "end_time": "2020-01-23T03:27:14.290002Z",
     "start_time": "2020-01-23T03:27:14.281182Z"
    }
   },
   "outputs": [],
   "source": [
    "airquality_melt['Month'] = [*range(28)]\n",
    "airquality_melt['Day'] = [*range(28)]"
   ]
  },
  {
   "cell_type": "code",
   "execution_count": 22,
   "metadata": {
    "ExecuteTime": {
     "end_time": "2020-01-23T03:27:41.985801Z",
     "start_time": "2020-01-23T03:27:41.936988Z"
    }
   },
   "outputs": [
    {
     "name": "stdout",
     "output_type": "stream",
     "text": [
      "       Date measurement  reading  Month  Day\n",
      "0  21-01-20       Ozone       41      0    0\n",
      "1  22-01-20       Ozone       42      1    1\n",
      "2  23-01-20       Ozone       23      2    2\n",
      "3  24-01-20       Ozone       14      3    3\n",
      "4  25-01-20       Ozone       55      4    4\n",
      "measurement  Ozone  Solar.R  Temp  Wind\n",
      "Month Day                              \n",
      "0     0       41.0      NaN   NaN   NaN\n",
      "1     1       42.0      NaN   NaN   NaN\n",
      "2     2       23.0      NaN   NaN   NaN\n",
      "3     3       14.0      NaN   NaN   NaN\n",
      "4     4       55.0      NaN   NaN   NaN\n"
     ]
    }
   ],
   "source": [
    "# Print the head of airquality_melt\n",
    "print(airquality_melt.head())\n",
    "\n",
    "# Pivot airquality_melt: airquality_pivot\n",
    "airquality_pivot = airquality_melt.pivot_table(index=['Month', 'Day'], columns='measurement', values='reading')\n",
    "\n",
    "# Print the head of airquality_pivot\n",
    "print(airquality_pivot.head())"
   ]
  },
  {
   "cell_type": "code",
   "execution_count": 25,
   "metadata": {
    "ExecuteTime": {
     "end_time": "2020-01-23T03:28:13.394142Z",
     "start_time": "2020-01-23T03:28:13.339400Z"
    }
   },
   "outputs": [
    {
     "name": "stdout",
     "output_type": "stream",
     "text": [
      "measurement  Ozone  Solar.R  Temp  Wind\n",
      "Month Day                              \n",
      "0     0       41.0      NaN   NaN   NaN\n",
      "1     1       42.0      NaN   NaN   NaN\n",
      "2     2       23.0      NaN   NaN   NaN\n",
      "3     3       14.0      NaN   NaN   NaN\n",
      "4     4       55.0      NaN   NaN   NaN\n",
      "measurement  Month  Day  Ozone  Solar.R  Temp  Wind\n",
      "0                0    0   41.0      NaN   NaN   NaN\n",
      "1                1    1   42.0      NaN   NaN   NaN\n",
      "2                2    2   23.0      NaN   NaN   NaN\n",
      "3                3    3   14.0      NaN   NaN   NaN\n",
      "4                4    4   55.0      NaN   NaN   NaN\n",
      "       Date  Ozone  Solar.R  Wind  Temp\n",
      "0  21-01-20     41       10   165    41\n",
      "1  22-01-20     42       22   265    42\n",
      "2  23-01-20     23       13   365    33\n",
      "3  24-01-20     14       44   495    34\n",
      "4  25-01-20     55       55   536    35\n"
     ]
    }
   ],
   "source": [
    "import numpy as np\n",
    "\n",
    "# Pivot table the airquality_dup: airquality_pivot\n",
    "airquality_pivot = airquality_melt.pivot_table(index=['Month', 'Day'], columns='measurement', values='reading', aggfunc=np.mean)\n",
    "\n",
    "# Print the head of airquality_pivot before reset_index\n",
    "print(airquality_pivot.head())\n",
    "\n",
    "# Reset the index of airquality_pivot\n",
    "airquality_pivot = airquality_pivot.reset_index()\n",
    "\n",
    "# Print the head of airquality_pivot\n",
    "print(airquality_pivot.head())\n",
    "\n",
    "# Print the head of airquality\n",
    "print(airquality.head())\n"
   ]
  },
  {
   "cell_type": "code",
   "execution_count": null,
   "metadata": {},
   "outputs": [],
   "source": [
    "# Melt tb: tb_melt\n",
    "tb_melt = pd.melt(tb, id_vars=['country', 'year'])\n",
    "\n",
    "# Create the 'gender' column\n",
    "tb_melt['gender'] = tb_melt.variable.str[0]\n",
    "\n",
    "# Create the 'age_group' column\n",
    "tb_melt['age_group'] = tb_melt.variable.str[1:]\n",
    "\n",
    "# Print the head of tb_melt\n",
    "print(tb_melt.head())\n"
   ]
  },
  {
   "cell_type": "code",
   "execution_count": null,
   "metadata": {},
   "outputs": [],
   "source": [
    "# Melt ebola: ebola_melt\n",
    "ebola_melt = pd.melt(ebola, id_vars=['Date', 'Day'], var_name='type_country', value_name='counts')\n",
    "\n",
    "# Create the 'str_split' column\n",
    "ebola_melt['str_split'] = ebola_melt.type_country.str.split('_')\n",
    "\n",
    "# Create the 'type' column\n",
    "ebola_melt['type'] = ebola_melt.str_split.str.get(0)\n",
    "\n",
    "# Create the 'country' column\n",
    "ebola_melt['country'] = ebola_melt.str_split.str.get(1)\n",
    "\n",
    "# Print the head of ebola_melt\n",
    "print(ebola_melt.head())\n"
   ]
  },
  {
   "cell_type": "code",
   "execution_count": null,
   "metadata": {},
   "outputs": [],
   "source": []
  },
  {
   "cell_type": "code",
   "execution_count": null,
   "metadata": {},
   "outputs": [],
   "source": []
  }
 ],
 "metadata": {
  "kernelspec": {
   "display_name": "Python 3",
   "language": "python",
   "name": "python3"
  },
  "language_info": {
   "codemirror_mode": {
    "name": "ipython",
    "version": 3
   },
   "file_extension": ".py",
   "mimetype": "text/x-python",
   "name": "python",
   "nbconvert_exporter": "python",
   "pygments_lexer": "ipython3",
   "version": "3.7.3"
  },
  "toc": {
   "base_numbering": 1,
   "nav_menu": {},
   "number_sections": true,
   "sideBar": true,
   "skip_h1_title": false,
   "title_cell": "Table of Contents",
   "title_sidebar": "Contents",
   "toc_cell": false,
   "toc_position": {},
   "toc_section_display": true,
   "toc_window_display": false
  }
 },
 "nbformat": 4,
 "nbformat_minor": 2
}
