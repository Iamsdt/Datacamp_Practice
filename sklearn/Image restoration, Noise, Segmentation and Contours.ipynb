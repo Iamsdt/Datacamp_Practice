{
 "cells": [
  {
   "cell_type": "code",
   "execution_count": null,
   "metadata": {},
   "outputs": [],
   "source": [
    "# Initialize the mask\n",
    "mask = np.zeros(image_with_logo.shape[:-1])\n",
    "\n",
    "# Set the pixels where the logo is to 1\n",
    "mask[210:272, 360:425] = 1\n",
    "\n",
    "# Apply inpainting to remove the logo\n",
    "image_logo_removed = inpaint.inpaint_biharmonic(image_with_logo, \n",
    "                                                mask, \n",
    "                                                multichannel=True)\n",
    "\n",
    "# Show the original and logo removed images\n",
    "show_image(image_with_logo, 'Image with logo')\n",
    "show_image(image_logo_removed, 'Image with logo removed')"
   ]
  },
  {
   "cell_type": "markdown",
   "metadata": {},
   "source": [
    "# Noise"
   ]
  },
  {
   "cell_type": "code",
   "execution_count": null,
   "metadata": {},
   "outputs": [],
   "source": [
    "# Import the module and function\n",
    "from skimage.util import random_noise\n",
    "\n",
    "# Add noise to the image\n",
    "noisy_image = random_noise(fruit_image)\n",
    "\n",
    "# Show original and resulting image\n",
    "show_image(fruit_image, 'Original')\n",
    "show_image(noisy_image, 'Noisy image')"
   ]
  },
  {
   "cell_type": "code",
   "execution_count": null,
   "metadata": {},
   "outputs": [],
   "source": [
    "# Import the module and function\n",
    "from skimage.restoration import denoise_tv_chambolle\n",
    "\n",
    "# Apply total variation filter denoising\n",
    "denoised_image = denoise_tv_chambolle(noisy_image, \n",
    "                                      multichannel=True)\n",
    "\n",
    "# Show the noisy and denoised images\n",
    "show_image(noisy_image, 'Noisy')\n",
    "show_image(denoised_image, 'Denoised image')"
   ]
  },
  {
   "cell_type": "code",
   "execution_count": null,
   "metadata": {},
   "outputs": [],
   "source": [
    "# Import bilateral denoising function\n",
    "from skimage.restoration import denoise_bilateral\n",
    "\n",
    "# Apply bilateral filter denoising\n",
    "denoised_image = denoise_bilateral(landscape_image, \n",
    "                                   multichannel=True)\n",
    "\n",
    "# Show original and resulting images\n",
    "show_image(landscape_image, 'Noisy image')\n",
    "show_image(denoised_image, 'Denoised image')"
   ]
  },
  {
   "cell_type": "code",
   "execution_count": 1,
   "metadata": {
    "ExecuteTime": {
     "end_time": "2020-02-28T06:26:03.602713Z",
     "start_time": "2020-02-28T06:26:03.144330Z"
    }
   },
   "outputs": [
    {
     "ename": "NameError",
     "evalue": "name 'show_image_contour' is not defined",
     "output_type": "error",
     "traceback": [
      "\u001b[0;31m---------------------------------------------------------------------------\u001b[0m",
      "\u001b[0;31mNameError\u001b[0m                                 Traceback (most recent call last)",
      "\u001b[0;32m<ipython-input-1-78121df6ad8a>\u001b[0m in \u001b[0;36m<module>\u001b[0;34m\u001b[0m\n\u001b[1;32m      9\u001b[0m \u001b[0;34m\u001b[0m\u001b[0m\n\u001b[1;32m     10\u001b[0m \u001b[0;31m# Shows the image with contours found\u001b[0m\u001b[0;34m\u001b[0m\u001b[0;34m\u001b[0m\u001b[0;34m\u001b[0m\u001b[0m\n\u001b[0;32m---> 11\u001b[0;31m \u001b[0mshow_image_contour\u001b[0m\u001b[0;34m(\u001b[0m\u001b[0mhorse_image\u001b[0m\u001b[0;34m,\u001b[0m \u001b[0mcontours\u001b[0m\u001b[0;34m)\u001b[0m\u001b[0;34m\u001b[0m\u001b[0;34m\u001b[0m\u001b[0m\n\u001b[0m",
      "\u001b[0;31mNameError\u001b[0m: name 'show_image_contour' is not defined"
     ]
    }
   ],
   "source": [
    "# Import the modules\n",
    "from skimage import measure, data\n",
    "\n",
    "# Obtain the horse image\n",
    "horse_image = data.horse()\n",
    "\n",
    "# Find the contours with a constant level value of 0.8\n",
    "contours = measure.find_contours(horse_image, 0.8)\n",
    "\n",
    "# Shows the image with contours found\n",
    "show_image_contour(horse_image, contours)"
   ]
  },
  {
   "cell_type": "code",
   "execution_count": null,
   "metadata": {},
   "outputs": [],
   "source": [
    "# Create list with the shape of each contour \n",
    "shape_contours = [cnt.shape[0] for cnt in contours]\n",
    "\n",
    "# Set 50 as the maximum size of the dots shape\n",
    "max_dots_shape = 50\n",
    "\n",
    "# Count dots in contours excluding bigger than dots size\n",
    "dots_contours = [cnt for cnt in contours if np.shape(cnt)[0] < max_dots_shape]\n",
    "\n",
    "# Shows all contours found \n",
    "show_image_contour(binary, contours)\n",
    "\n",
    "# Print the dice's number\n",
    "print(\"Dice's dots number: {}. \".format(len(dots_contours)))"
   ]
  },
  {
   "cell_type": "code",
   "execution_count": null,
   "metadata": {},
   "outputs": [],
   "source": []
  },
  {
   "cell_type": "code",
   "execution_count": null,
   "metadata": {},
   "outputs": [],
   "source": []
  }
 ],
 "metadata": {
  "kernelspec": {
   "display_name": "Python 3",
   "language": "python",
   "name": "python3"
  },
  "language_info": {
   "codemirror_mode": {
    "name": "ipython",
    "version": 3
   },
   "file_extension": ".py",
   "mimetype": "text/x-python",
   "name": "python",
   "nbconvert_exporter": "python",
   "pygments_lexer": "ipython3",
   "version": "3.7.3"
  },
  "toc": {
   "base_numbering": 1,
   "nav_menu": {},
   "number_sections": true,
   "sideBar": true,
   "skip_h1_title": false,
   "title_cell": "Table of Contents",
   "title_sidebar": "Contents",
   "toc_cell": false,
   "toc_position": {},
   "toc_section_display": true,
   "toc_window_display": false
  }
 },
 "nbformat": 4,
 "nbformat_minor": 2
}
