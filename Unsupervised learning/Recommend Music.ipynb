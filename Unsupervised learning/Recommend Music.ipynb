{
 "cells": [
  {
   "cell_type": "code",
   "execution_count": 1,
   "metadata": {
    "ExecuteTime": {
     "end_time": "2020-02-13T14:03:33.146338Z",
     "start_time": "2020-02-13T14:03:31.873601Z"
    }
   },
   "outputs": [
    {
     "name": "stdout",
     "output_type": "stream",
     "text": [
      "--2020-02-13 20:03:31--  https://assets.datacamp.com/production/repositories/655/datasets/c974f2f2c4834958cbe5d239557fbaf4547dc8a3/Musical%20artists.zip\n",
      "Resolving assets.datacamp.com (assets.datacamp.com)... 13.35.202.9, 13.35.202.52, 13.35.202.18, ...\n",
      "Connecting to assets.datacamp.com (assets.datacamp.com)|13.35.202.9|:443... connected.\n",
      "HTTP request sent, awaiting response... 200 OK\n",
      "Length: 13332 (13K)\n",
      "Saving to: ‘Musical artists.zip’\n",
      "\n",
      "Musical artists.zip 100%[===================>]  13.02K  --.-KB/s    in 0s      \n",
      "\n",
      "2020-02-13 20:03:33 (167 MB/s) - ‘Musical artists.zip’ saved [13332/13332]\n",
      "\n"
     ]
    }
   ],
   "source": [
    "!wget 'https://assets.datacamp.com/production/repositories/655/datasets/c974f2f2c4834958cbe5d239557fbaf4547dc8a3/Musical%20artists.zip'"
   ]
  },
  {
   "cell_type": "code",
   "execution_count": 2,
   "metadata": {
    "ExecuteTime": {
     "end_time": "2020-02-13T14:03:50.913342Z",
     "start_time": "2020-02-13T14:03:50.782075Z"
    }
   },
   "outputs": [
    {
     "name": "stdout",
     "output_type": "stream",
     "text": [
      "Archive:  Musical artists.zip\r\n",
      "   creating: Musical artists/\r\n",
      "  inflating: Musical artists/artists.csv  \r\n",
      "  inflating: Musical artists/scrobbler-small-sample.csv  \r\n"
     ]
    }
   ],
   "source": [
    "!unzip 'Musical artists.zip'"
   ]
  },
  {
   "cell_type": "code",
   "execution_count": 4,
   "metadata": {
    "ExecuteTime": {
     "end_time": "2020-02-13T14:04:28.117160Z",
     "start_time": "2020-02-13T14:04:28.100676Z"
    }
   },
   "outputs": [],
   "source": [
    "import pandas as pd\n",
    "\n",
    "df = pd.read_csv('Musical artists/artists.csv')"
   ]
  },
  {
   "cell_type": "code",
   "execution_count": 5,
   "metadata": {
    "ExecuteTime": {
     "end_time": "2020-02-13T14:04:35.339911Z",
     "start_time": "2020-02-13T14:04:35.316951Z"
    }
   },
   "outputs": [
    {
     "data": {
      "text/html": [
       "<div>\n",
       "<style scoped>\n",
       "    .dataframe tbody tr th:only-of-type {\n",
       "        vertical-align: middle;\n",
       "    }\n",
       "\n",
       "    .dataframe tbody tr th {\n",
       "        vertical-align: top;\n",
       "    }\n",
       "\n",
       "    .dataframe thead th {\n",
       "        text-align: right;\n",
       "    }\n",
       "</style>\n",
       "<table border=\"1\" class=\"dataframe\">\n",
       "  <thead>\n",
       "    <tr style=\"text-align: right;\">\n",
       "      <th></th>\n",
       "      <th>Massive Attack</th>\n",
       "    </tr>\n",
       "  </thead>\n",
       "  <tbody>\n",
       "    <tr>\n",
       "      <th>0</th>\n",
       "      <td>Sublime</td>\n",
       "    </tr>\n",
       "    <tr>\n",
       "      <th>1</th>\n",
       "      <td>Beastie Boys</td>\n",
       "    </tr>\n",
       "    <tr>\n",
       "      <th>2</th>\n",
       "      <td>Neil Young</td>\n",
       "    </tr>\n",
       "    <tr>\n",
       "      <th>3</th>\n",
       "      <td>Dead Kennedys</td>\n",
       "    </tr>\n",
       "    <tr>\n",
       "      <th>4</th>\n",
       "      <td>Orbital</td>\n",
       "    </tr>\n",
       "  </tbody>\n",
       "</table>\n",
       "</div>"
      ],
      "text/plain": [
       "  Massive Attack\n",
       "0        Sublime\n",
       "1   Beastie Boys\n",
       "2     Neil Young\n",
       "3  Dead Kennedys\n",
       "4        Orbital"
      ]
     },
     "execution_count": 5,
     "metadata": {},
     "output_type": "execute_result"
    }
   ],
   "source": [
    "df.head()"
   ]
  },
  {
   "cell_type": "code",
   "execution_count": 6,
   "metadata": {
    "ExecuteTime": {
     "end_time": "2020-02-13T14:04:44.272639Z",
     "start_time": "2020-02-13T14:04:44.260292Z"
    }
   },
   "outputs": [
    {
     "data": {
      "text/plain": [
       "(110, 1)"
      ]
     },
     "execution_count": 6,
     "metadata": {},
     "output_type": "execute_result"
    }
   ],
   "source": [
    "df.shape"
   ]
  },
  {
   "cell_type": "code",
   "execution_count": 7,
   "metadata": {
    "ExecuteTime": {
     "end_time": "2020-02-13T14:05:36.411964Z",
     "start_time": "2020-02-13T14:05:36.397183Z"
    }
   },
   "outputs": [],
   "source": [
    "artists = df['Massive Attack'].values"
   ]
  },
  {
   "cell_type": "code",
   "execution_count": 8,
   "metadata": {
    "ExecuteTime": {
     "end_time": "2020-02-13T14:05:40.514958Z",
     "start_time": "2020-02-13T14:05:40.511888Z"
    }
   },
   "outputs": [
    {
     "data": {
      "text/plain": [
       "array(['Sublime', 'Beastie Boys', 'Neil Young', 'Dead Kennedys',\n",
       "       'Orbital', 'Miles Davis', 'Leonard Cohen', 'Van Morrison', 'NOFX',\n",
       "       'Rancid', 'Lamb', 'Korn', 'Dropkick Murphys', 'Bob Dylan',\n",
       "       'Eminem', 'Nirvana', 'Van Halen', 'Damien Rice', 'Elvis Costello',\n",
       "       'Everclear', 'Jimi Hendrix', 'PJ Harvey', 'Red Hot Chili Peppers',\n",
       "       'Ryan Adams', 'Soundgarden', 'The White Stripes', 'Madonna',\n",
       "       'Eric Clapton', 'Bob Marley', 'Dr. Dre', 'The Flaming Lips',\n",
       "       'Tom Waits', 'Moby', 'Cypress Hill', 'Garbage', 'Fear Factory',\n",
       "       '50 Cent', 'Ani DiFranco', 'Matchbox Twenty', 'The Police',\n",
       "       'Eagles', 'Phish', 'Stone Temple Pilots', 'Black Sabbath',\n",
       "       'Britney Spears', 'Fatboy Slim', 'System of a Down',\n",
       "       'Simon & Garfunkel', 'Snoop Dogg', 'Aimee Mann', 'Less Than Jake',\n",
       "       'Rammstein', 'Reel Big Fish', 'The Prodigy', 'Pantera',\n",
       "       'Foo Fighters', 'The Beatles', 'Incubus', 'Audioslave',\n",
       "       'Bright Eyes', 'Machine Head', 'AC/DC', 'Dire Straits',\n",
       "       'Motörhead', 'Ramones', 'Slipknot',\n",
       "       'Me First and the Gimme Gimmes', 'Bruce Springsteen',\n",
       "       'Queens of the Stone Age', 'The Chemical Brothers', 'Bon Jovi',\n",
       "       'Goo Goo Dolls', 'Alice in Chains', 'Howard Shore',\n",
       "       'Barenaked Ladies', 'Anti-Flag', 'Nick Cave and the Bad Seeds',\n",
       "       'Static-X', 'Misfits', '2Pac', 'Sparta', 'Interpol',\n",
       "       'The Crystal Method', 'The Beach Boys', 'Goldfrapp',\n",
       "       'Bob Marley & the Wailers', 'Kylie Minogue', 'The Blood Brothers',\n",
       "       'Mirah', 'Ludacris', 'Snow Patrol', 'The Mars Volta',\n",
       "       'Yeah Yeah Yeahs', 'Iced Earth', 'Fiona Apple', 'Rilo Kiley',\n",
       "       'Rufus Wainwright', 'Flogging Molly', 'Hot Hot Heat', 'Dredg',\n",
       "       'Switchfoot', 'Tegan and Sara', 'Rage Against the Machine',\n",
       "       'Keane', 'Jet', 'Franz Ferdinand', 'The Postal Service',\n",
       "       'The Dresden Dolls', 'The Killers', 'Death From Above 1979'],\n",
       "      dtype=object)"
      ]
     },
     "execution_count": 8,
     "metadata": {},
     "output_type": "execute_result"
    }
   ],
   "source": [
    "artists"
   ]
  },
  {
   "cell_type": "code",
   "execution_count": null,
   "metadata": {},
   "outputs": [],
   "source": [
    "# Perform the necessary imports\n",
    "from sklearn.decomposition import NMF\n",
    "from sklearn.preprocessing import Normalizer, MaxAbsScaler\n",
    "from sklearn.pipeline import make_pipeline\n",
    "\n",
    "# Create a MaxAbsScaler: scaler\n",
    "scaler = MaxAbsScaler()\n",
    "\n",
    "# Create an NMF model: nmf\n",
    "nmf = NMF(20)\n",
    "\n",
    "# Create a Normalizer: normalizer\n",
    "normalizer = Normalizer()\n",
    "\n",
    "# Create a pipeline: pipeline\n",
    "pipeline = make_pipeline(scaler, nmf, normalizer)\n",
    "\n",
    "# Apply fit_transform to artists: norm_features\n",
    "norm_features = pipeline.fit_transform(artists)"
   ]
  },
  {
   "cell_type": "code",
   "execution_count": null,
   "metadata": {},
   "outputs": [],
   "source": [
    "# Import pandas\n",
    "import pandas as pd\n",
    "\n",
    "# Create a DataFrame: df\n",
    "df = pd.DataFrame(norm_features, index=artist_names)\n",
    "\n",
    "# Select row of 'Bruce Springsteen': artist\n",
    "artist = df.loc['Bruce Springsteen']\n",
    "\n",
    "# Compute cosine similarities: similarities\n",
    "similarities = df.dot(artist)\n",
    "\n",
    "# Display those with highest cosine similarity\n",
    "print(similarities.nlargest())"
   ]
  },
  {
   "cell_type": "code",
   "execution_count": null,
   "metadata": {},
   "outputs": [],
   "source": []
  },
  {
   "cell_type": "code",
   "execution_count": null,
   "metadata": {},
   "outputs": [],
   "source": []
  }
 ],
 "metadata": {
  "kernelspec": {
   "display_name": "Python 3",
   "language": "python",
   "name": "python3"
  },
  "language_info": {
   "codemirror_mode": {
    "name": "ipython",
    "version": 3
   },
   "file_extension": ".py",
   "mimetype": "text/x-python",
   "name": "python",
   "nbconvert_exporter": "python",
   "pygments_lexer": "ipython3",
   "version": "3.7.3"
  },
  "toc": {
   "base_numbering": 1,
   "nav_menu": {},
   "number_sections": true,
   "sideBar": true,
   "skip_h1_title": false,
   "title_cell": "Table of Contents",
   "title_sidebar": "Contents",
   "toc_cell": false,
   "toc_position": {},
   "toc_section_display": true,
   "toc_window_display": false
  }
 },
 "nbformat": 4,
 "nbformat_minor": 2
}
